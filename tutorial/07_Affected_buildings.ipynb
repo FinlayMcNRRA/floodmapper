{
 "cells": [
  {
   "cell_type": "markdown",
   "metadata": {},
   "source": [
    "# Identify affected buildings\n",
    "\n",
    "In this notebook we show how to identify the affected buildings in a floodmap. We will use GeoScape buildings in ESRI ShapeFile provided by NEMA which are available [here](https://drive.google.com/drive/folders/1NH5Pu71jBxmchTKSeYyj7VF26WXLvowN?usp=share_link). For the purpose of this demonstration we will use the floodmap over Lismore aggregated between the 27th of March to the 15th April of 2022."
   ]
  },
  {
   "cell_type": "code",
   "execution_count": null,
   "metadata": {},
   "outputs": [],
   "source": [
    "import os\n",
    "\n",
    "os.environ[\"GOOGLE_APPLICATION_CREDENTIALS\"] = \"/home/gonzalo/Downloads/nema-floodmapper-2022.json\""
   ]
  },
  {
   "cell_type": "code",
   "execution_count": null,
   "metadata": {},
   "outputs": [],
   "source": [
    "assert \"GOOGLE_APPLICATION_CREDENTIALS\" in os.environ, \"[ERR] missing $GOOGLE_APPLICATION_CREDENTIALS!\"\n",
    "key_file_path = os.environ[\"GOOGLE_APPLICATION_CREDENTIALS\"]\n",
    "assert os.path.exists(key_file_path), f\"[ERR] Google credential key file does not exist: \\n{key_file_path} \""
   ]
  },
  {
   "cell_type": "markdown",
   "metadata": {},
   "source": [
    "## Load and plot the floodmap"
   ]
  },
  {
   "cell_type": "code",
   "execution_count": null,
   "metadata": {},
   "outputs": [],
   "source": [
    "import matplotlib.colors\n",
    "from ml4floods.data import utils\n",
    "import geopandas as gpd\n",
    "\n",
    "\n",
    "COLORS = {\n",
    "    'cloud': \"gray\",\n",
    "    'flood_trace': \"turquoise\",\n",
    "    'water': \"blue\"\n",
    "}\n",
    "\n",
    "\n",
    "floodmap = utils.read_geojson_from_gcp(\"gs://ml4floods_nema/0_DEV/1_Staging/operational/EMSR570/AUTOAOI3011/pre_post_products/postflood_2022-03-27_2022-04-15.geojson\")\n",
    "area_imaged = floodmap[floodmap[\"class\"] == \"area_imaged\"].copy()\n",
    "floodmap = floodmap[floodmap[\"class\"] != \"area_imaged\"].copy()\n",
    "\n",
    "categories = floodmap[\"class\"].unique()\n",
    "cmap = matplotlib.colors.ListedColormap([COLORS[b] for b in categories])\n",
    "\n",
    "m = floodmap.explore(column=\"class\",cmap=cmap,categories=categories)\n",
    "\n",
    "# Plot in red the area of interest\n",
    "m = area_imaged.explore(m=m,color=\"red\",style_kwds={\"fill\":False})\n",
    "m"
   ]
  },
  {
   "cell_type": "markdown",
   "metadata": {},
   "source": [
    "## Convert floodmap to CRS EPSG:7844\n",
    "\n",
    "This step is needed because GeoScape buildings are saved in this CRS. In addition we subset the floodmap `GeoDataFrame` object to keep only the `water` and `flood_trace` polygons."
   ]
  },
  {
   "cell_type": "code",
   "execution_count": null,
   "metadata": {},
   "outputs": [],
   "source": [
    "floodmap_crs7844 = floodmap.to_crs(\"EPSG:7844\")\n",
    "area_imaged_crs7844 = area_imaged.to_crs(\"EPSG:7844\")\n",
    "floodmap_crs7844_innundated = floodmap_crs7844[floodmap_crs7844[\"class\"].isin([\"water\",\"flood_trace\"])]"
   ]
  },
  {
   "cell_type": "markdown",
   "metadata": {},
   "source": [
    "## Read buildings over the area of interest\n",
    "\n",
    "In the next cell we read the GeoScape buildings over the area of interest. For this we use the `read_file` function of `geopandas` and specify a bounding box (`bbox` argument) to read. This makes the reading of the buildings much faster (as we only load the buildings in this bounding box instead of all buildings in NSW)."
   ]
  },
  {
   "cell_type": "code",
   "execution_count": null,
   "metadata": {},
   "outputs": [],
   "source": [
    "%%time\n",
    "# https://drive.google.com/drive/folders/1NH5Pu71jBxmchTKSeYyj7VF26WXLvowN?usp=share_link\n",
    "path_buildings = \"/home/gonzalo/Downloads/Buildings/Buildings JUNE 2022/Standard/nsw_buildings.shp\"\n",
    "buildings_in_flood_area = gpd.read_file(path_buildings,bbox=tuple(area_imaged_crs7844.iloc[0].geometry.bounds))\n",
    "buildings_in_flood_area"
   ]
  },
  {
   "cell_type": "markdown",
   "metadata": {},
   "source": [
    "## Compute affected buildings\n",
    "\n",
    "In the next cell we intersect the buildings and the floodmap. We add a column in the buildings `GeoDataFrame` the indicates if the building intersect the floodmap (i.e. if it has been affected by the flooding)."
   ]
  },
  {
   "cell_type": "code",
   "execution_count": null,
   "metadata": {},
   "outputs": [],
   "source": [
    "%%time\n",
    "\n",
    "# Add column whether the building has been affected by the flood\n",
    "buildings_in_flood_area[\"affected\"] = buildings_in_flood_area.geometry.apply(lambda x: \"yes\" if floodmap_crs7844_innundated.intersects(x).any() else \"no\")"
   ]
  },
  {
   "cell_type": "markdown",
   "metadata": {},
   "source": [
    "## Display affected buildings\n",
    "\n",
    "In the next cell we show in red the affected buildings, we also show in gray the non-affected buildings."
   ]
  },
  {
   "cell_type": "code",
   "execution_count": null,
   "metadata": {},
   "outputs": [],
   "source": [
    "categories_buildings = [\"yes\",\"no\"]\n",
    "cmap_buildings = matplotlib.colors.ListedColormap([\"#DD0000\",\"#888888\"])\n",
    "\n",
    "m = buildings_in_flood_area[[\"geometry\",\"affected\",\"CAPT_DATE\",\"AREA\",\"GRD_ELEV\"]].explore(column=\"affected\",cmap=cmap_buildings,categories=categories_buildings)\n",
    "\n",
    "# Plot in red the area of interest\n",
    "m = area_imaged.explore(m=m,color=\"red\",style_kwds={\"fill\":False})\n",
    "m"
   ]
  },
  {
   "cell_type": "markdown",
   "metadata": {},
   "source": [
    "## Display affected buildings and floodmap together\n",
    "\n",
    "We could also display together the affected buildings and the floodmap."
   ]
  },
  {
   "cell_type": "code",
   "execution_count": null,
   "metadata": {},
   "outputs": [],
   "source": [
    "m = buildings_in_flood_area[[\"geometry\",\"affected\",\"CAPT_DATE\",\"AREA\",\"GRD_ELEV\"]].explore(column=\"affected\",cmap=cmap_buildings,categories=categories_buildings)\n",
    "\n",
    "# Plot in red the area of interest\n",
    "m = area_imaged.explore(m=m,color=\"red\",style_kwds={\"fill\":False})\n",
    "m = floodmap.explore(column=\"class\",cmap=cmap,categories=categories,style_kwds={\"fillOpacity\":0.25},m=m)\n",
    "\n",
    "m"
   ]
  },
  {
   "cell_type": "markdown",
   "metadata": {},
   "source": [
    "## Statistics of affected buildings"
   ]
  },
  {
   "cell_type": "code",
   "execution_count": null,
   "metadata": {},
   "outputs": [],
   "source": [
    "buildings_in_flood_area_affected = buildings_in_flood_area[buildings_in_flood_area.affected == \"yes\"]\n",
    "\n",
    "print(f\"There are {buildings_in_flood_area_affected.shape[0]} affected buildings\")\n",
    "print(f\"Area of the affected buildings: {buildings_in_flood_area_affected.AREA.sum()} m²\")"
   ]
  }
 ],
 "metadata": {
  "kernelspec": {
   "display_name": "Python [conda env:ml4floods]",
   "language": "python",
   "name": "conda-env-ml4floods-py"
  },
  "language_info": {
   "codemirror_mode": {
    "name": "ipython",
    "version": 3
   },
   "file_extension": ".py",
   "mimetype": "text/x-python",
   "name": "python",
   "nbconvert_exporter": "python",
   "pygments_lexer": "ipython3",
   "version": "3.9.9"
  }
 },
 "nbformat": 4,
 "nbformat_minor": 4
}
