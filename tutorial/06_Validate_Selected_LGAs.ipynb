{
 "cells": [
  {
   "cell_type": "markdown",
   "id": "13e0fadc-9090-44fe-b1e8-4ccc8e66dd07",
   "metadata": {},
   "source": [
    "# Validation Workflow: October 2022 Flooding\n",
    "\n",
    "Notebook to perform validation of the flood events in eastern Australia during October. \n",
    "\n",
    "**Validation LGAs:** \n",
    "```\n",
    " Shepparton = 'Greater Shepparton'\n",
    " Rochester  = 'Campaspe'\n",
    " Moree      = 'Moree Plains'\n",
    " Forbes     = 'Forbes'\n",
    " ```"
   ]
  },
  {
   "cell_type": "code",
   "execution_count": null,
   "id": "af1c5398-4318-46e0-bb7b-2f7ff38cf3c2",
   "metadata": {},
   "outputs": [],
   "source": [
    "# Necessary imports\n",
    "import os\n",
    "os.environ['USE_PYGEOS'] = '0'\n",
    "from itertools import product\n",
    "from dotenv import load_dotenv\n",
    "import fsspec\n",
    "import geopandas as gpd\n",
    "import matplotlib.pyplot as plt\n",
    "\n",
    "from ml4floods.data import utils\n",
    "from ml4floods.visualization import plot_utils\n",
    "from ml4floods.models.postprocess import spatial_aggregation\n",
    "from ml4floods.data.ee_download import process_metadata\n",
    "\n",
    "from datetime import datetime, timezone, timedelta\n",
    "import ee\n",
    "from georeader.readers import ee_query\n",
    "import pandas as pd\n",
    "import folium\n",
    "#from backports.zoneinfo import ZoneInfo\n",
    "from zoneinfo import ZoneInfo\n",
    "import geemap.foliumap as geemap\n",
    "import shapely\n",
    "\n",
    "# Uncomment this to suppress deprecation warnings\n",
    "import warnings\n",
    "warnings.filterwarnings(\"ignore\", category=DeprecationWarning) \n",
    "from shapely.errors import ShapelyDeprecationWarning\n",
    "warnings.filterwarnings(\"ignore\", category=ShapelyDeprecationWarning) "
   ]
  },
  {
   "cell_type": "markdown",
   "id": "40bfce80",
   "metadata": {},
   "source": [
    "## Load environment and project details\n",
    "\n",
    "The notebook reads the location of the GCP access key file and project name from a hidden ```.env``` file in the root directory. See [SETUP]() file for instructions on creating these."
   ]
  },
  {
   "cell_type": "code",
   "execution_count": null,
   "id": "36c177f6",
   "metadata": {},
   "outputs": [],
   "source": [
    "# Load environment variables (including path to credentials) from '.env' file\n",
    "env_file_path = \"../.env\"\n",
    "\n",
    "assert load_dotenv(dotenv_path=env_file_path) == True, \"[ERR] failed to load environment!\"\n",
    "assert \"GOOGLE_APPLICATION_CREDENTIALS\" in os.environ, \"[ERR] missing $GOOGLE_APPLICATION_CREDENTIAL!\"\n",
    "assert \"GS_USER_PROJECT\" in os.environ, \"[ERR] missing $GS_USER_PROJECT!\"\n",
    "key_file_path = os.environ[\"GOOGLE_APPLICATION_CREDENTIALS\"]\n",
    "assert os.path.exists(key_file_path), f\"[ERR] Google credential key file does not exist: \\n{key_file_path} \""
   ]
  },
  {
   "cell_type": "code",
   "execution_count": null,
   "id": "400c8bf0",
   "metadata": {},
   "outputs": [],
   "source": [
    "# Authenticate with Google Earth Engine\n",
    "# Execute 'earthengine authenticate' from a terminal"
   ]
  },
  {
   "cell_type": "code",
   "execution_count": null,
   "id": "4d91dc02",
   "metadata": {},
   "outputs": [],
   "source": [
    "# Initialise the Google Earth Engine connection.\n",
    "# Follow instructions on login prompt, if required.\n",
    "ee.Initialize()"
   ]
  },
  {
   "cell_type": "markdown",
   "id": "39922e40",
   "metadata": {},
   "source": [
    "## Set flood event & validation parameters\n",
    "\n",
    "Set the session name, flooding date range and LGAs to be validated."
   ]
  },
  {
   "cell_type": "code",
   "execution_count": null,
   "id": "0c232acb-cd0b-4f41-b61e-de5e788b99d0",
   "metadata": {},
   "outputs": [],
   "source": [
    "# All work is conducted under a unique session name\n",
    "session_name = \"NEMA002\"\n",
    "\n",
    "# Pre-flood date range\n",
    "date_pre_flood_start = \"2022-09-05\"\n",
    "date_pre_flood_end = \"2022-09-22\"\n",
    "\n",
    "# Flooding date range\n",
    "date_flood_start = \"2022-10-11\"\n",
    "date_flood_end = \"2022-11-10\"\n",
    "#flood_duration_days = 15\n",
    "\n",
    "# List of LGAs to check\n",
    "lga_req_list = [\"Greater Shepparton\", \"Campaspe\", \"Moree Plains\", \"Forbes\"]"
   ]
  },
  {
   "cell_type": "markdown",
   "id": "998236f0",
   "metadata": {},
   "source": [
    "## Parse dates, load the grid and LGA shapes"
   ]
  },
  {
   "cell_type": "code",
   "execution_count": null,
   "id": "85f642a2",
   "metadata": {},
   "outputs": [],
   "source": [
    "# First parse the pre- and post-flood dates\n",
    "tz = ZoneInfo(\"Australia/Sydney\")\n",
    "date_event = datetime.strptime(date_flood_start,\"%Y-%m-%d\").replace(tzinfo=tz)\n",
    "period_pre_flood_start = datetime.strptime(date_pre_flood_start,\"%Y-%m-%d\").replace(tzinfo=tz)\n",
    "period_pre_flood_end = datetime.strptime(date_pre_flood_end,\"%Y-%m-%d\").replace(tzinfo=tz)\n",
    "period_flood_start = datetime.strptime(date_flood_start,\"%Y-%m-%d\").replace(tzinfo=tz)\n",
    "period_flood_end = datetime.strptime(date_flood_end,\"%Y-%m-%d\").replace(tzinfo=tz)\n",
    "\n",
    "print(f\"Pre-flood search period: \\n{period_pre_flood_start} to \\n{period_pre_flood_end}\")\n",
    "print(f\"\\nFlood search period: \\n{period_flood_start} to \\n{period_flood_end}\")"
   ]
  },
  {
   "cell_type": "code",
   "execution_count": null,
   "id": "b8f91c46",
   "metadata": {},
   "outputs": [],
   "source": [
    "# The sampling grid is stored in a GeoJSON file under the session name\n",
    "path_to_aois = f\"gs://ml4floods_nema/0_DEV/1_Staging/operational/{session_name}/aois.geojson\"\n",
    "grid_fs = utils.get_filesystem(path_to_aois)\n",
    "grid_df = gpd.read_file(path_to_aois).to_crs('epsg:4326')\n",
    "grid_df.plot()"
   ]
  },
  {
   "cell_type": "code",
   "execution_count": null,
   "id": "7de1d0ef",
   "metadata": {},
   "outputs": [],
   "source": [
    "# We store the LGA shapefile locally\n",
    "lga_file_path = \"../resources/LGAs/LGA_2022_AUST_GDA2020.shp\"\n",
    "lga_df = gpd.read_file(lga_file_path).to_crs('epsg:4326')\n",
    "lga_df.plot()"
   ]
  },
  {
   "cell_type": "markdown",
   "id": "5bb59b24",
   "metadata": {},
   "source": [
    "## Define useful functions"
   ]
  },
  {
   "cell_type": "code",
   "execution_count": null,
   "id": "75ea2875",
   "metadata": {},
   "outputs": [],
   "source": [
    "def intersect_lga_grid(lga_name, lga_df, grid_df):\n",
    "    \"\"\"Return the grid patches that overlap a LGA/\"\"\"\n",
    "    grid_list = grid_df.overlay(lga_df[lga_df[\"LGA_NAME22\"] == lga_name ], \n",
    "                                how = 'intersection').name.to_list()\n",
    "    grid_lga_df = grid_df.loc[grid_df.name.apply(lambda x: x in grid_list)]\n",
    "    return grid_list, grid_lga_df\n",
    "\n",
    "def get_metadata_grid(grid_name):\n",
    "    \"\"\"Fetch and parse the metadata for a single grid position.\"\"\"\n",
    "    csv_s2_path = f\"gs://ml4floods_nema/0_DEV/1_Staging/GRID/{grid_name}/S2/s2info.csv\"\n",
    "    metadata_s2 = process_metadata(csv_s2_path)\n",
    "    metadata_s2[\"satellite\"] = \"S2\"\n",
    "    csv_l89_path = f\"gs://ml4floods_nema/0_DEV/1_Staging/GRID/{grid_name}/Landsat/landsatinfo.csv\"\n",
    "    metadata_l89 = process_metadata(csv_l89_path)\n",
    "    metadata_l89[\"satellite\"] = \"Landsat\"\n",
    "    metadata = pd.concat([metadata_s2, metadata_l89],ignore_index=True)\n",
    "    metadata.cloud_probability*=100\n",
    "    metadata = metadata[metadata[\"valids\"] >= .8]\n",
    "    return metadata\n",
    "\n",
    "def plot_data_timeseries(metadata, period_flood_start, period_flood_end, period_pre_flood_start):\n",
    "    \"\"\"Plot the time-series of available satellite data.\"\"\"\n",
    "    for sat, downloaded in product([\"Landsat\",\"S2\"], [True, False]):\n",
    "        label=f\"{sat} ({'' if downloaded else 'NOT '}Downloaded)\"\n",
    "        selection_mask = (metadata.satellite == sat) & (metadata.s2available == downloaded)\n",
    "        color = \"C0\" if sat ==\"S2\" else \"C1\"\n",
    "        marker = \"o\" if downloaded else \"x\"\n",
    "        ax.scatter(x=metadata[selection_mask].datetime, \n",
    "                   y=metadata[selection_mask].cloud_probability, \n",
    "                   label=label, c=color, marker=marker, s=100)\n",
    "        \n",
    "    # Format plot to look nice\n",
    "    ax.legend()\n",
    "    metadata.plot(x=\"datetime\", y=\"cloud_probability\", ax=ax,legend=None)\n",
    "    ax.axvspan(period_flood_start, period_flood_end, alpha=0.2)\n",
    "    datespan = abs(period_flood_end - period_pre_flood_start)\n",
    "    ax.set_xlim(period_pre_flood_start-datespan*.1, period_flood_end+datespan*.1)\n",
    "    plt.ylabel(\"Mean Cloud Coverage (%)\")\n",
    "    plt.xlabel(\"\")\n",
    "    plt.grid()\n",
    "\n",
    "def create_aggregate_floodmap(grid_fs, grid_list):\n",
    "    \"\"\"Create a mosaiced floodmap covering the specified grid patches.\"\"\"\n",
    "    floodmaps_aggregate = []\n",
    "    floodmaps_aggregate = [\"gs://\" \n",
    "                           + grid_fs.glob(f\"gs://ml4floods_nema/0_DEV/1_Staging\"\n",
    "                                          + f\"/operational/{session_name}/{g}\"\n",
    "                                          + f\"/pre_post_products/postflood*.geojson\")[0]\n",
    "                           for g in grid_list]\n",
    "    floodmap = spatial_aggregation(floodmaps_aggregate)\n",
    "    return floodmap\n",
    "\n",
    "def query_ee_images(poly_outline, period_start, period_end):\n",
    "    \"\"\"\n",
    "    Query GEE for available images in a spatial region and date range.\n",
    "    Return a dataframe of available images and an image collection.\n",
    "    \"\"\"\n",
    "    images_available, collection = \\\n",
    "    ee_query.query(poly_outline, \n",
    "                   period_start, \n",
    "                   period_end,\n",
    "                   producttype=\"both\",                                \n",
    "                   return_collection=True)\n",
    "    return images_available, collection\n",
    "\n",
    "def build_interactive_map(grid_outline, floodmap, images_available_gee, images_available_gee_pre, \n",
    "                          do_plot_day=False):\n",
    "    \"\"\"Build an interactive Folium map to visualise the LGA.\"\"\"\n",
    "    \n",
    "    # Create a clipping Geometry\n",
    "    eegeom_clip = ee.Geometry(shapely.geometry.mapping(grid_outline))\n",
    "    # Filter for cloud polygons\n",
    "    clouds = floodmap.loc[floodmap['class'].apply(lambda x: x in ['cloud'])]\n",
    "    # Filter for 'flood_trace' and 'water' polygons\n",
    "    floodmap_post_intersect = floodmap.loc[floodmap['class']\n",
    "                                           .apply(lambda x: x in ['flood_trace', 'water'])]\n",
    "    # Initialise the map base layer at the LGA centroid\n",
    "    m = geemap.Map(location=grid_outline.centroid.coords[0][-1::-1], zoom_start=10)\n",
    "    # Load the pre-flood images\n",
    "    for (day, satellite), images_day in images_available_gee_pre.groupby([\"solarday\", \"satellite\"]):\n",
    "        image_col_day_sat = \\\n",
    "        collection_pre.filter(ee.Filter.inList(\"title\", images_day.index.tolist())).map(lambda x: x.clip(eegeom_clip))\n",
    "        bands = [\"B11\",\"B8\",\"B4\"] if satellite.startswith(\"S2\") else [\"B6\",\"B5\",\"B4\"]\n",
    "        m.addLayer(image_col_day_sat,\n",
    "                   {\"min\":0, \"max\":3500 if satellite.startswith(\"S2\") else 0.35, \"bands\":bands},\n",
    "                   f\"{satellite}: {day}\", \n",
    "                   False)\n",
    "    # Load the post-flood images and post-flood maps\n",
    "    for (day, satellite), images_day in images_available_gee.groupby([\"solarday\", \"satellite\"]):\n",
    "        image_col_day_sat = \\\n",
    "        collection.filter(ee.Filter.inList(\"title\", images_day.index.tolist())).map(lambda x: x.clip(eegeom_clip))\n",
    "        bands = [\"B11\",\"B8\",\"B4\"] if satellite.startswith(\"S2\") else [\"B6\",\"B5\",\"B4\"]\n",
    "        m.addLayer(image_col_day_sat, \n",
    "                   {\"min\":0, \"max\":3000 if satellite.startswith(\"S2\") else 0.3, \"bands\":bands},\n",
    "                   f\"{satellite}: {day}\", \n",
    "                   False)\n",
    "        satellite_plot = 'S2' if satellite.startswith(\"S2\") else 'Landsat'\n",
    "        if do_plot_day:\n",
    "            print(f'Aggregating floodmap for day {day} and {satellite_plot} images')\n",
    "            try:\n",
    "                floodmaps_aggregate = []\n",
    "                for g in grid_list:\n",
    "                    floodmaps_aggregate.extend([\"gs://\" \n",
    "                                                + f for f in grid_fs.glob(f\"gs://ml4floods_nema/0_DEV/1_Staging\"\n",
    "                                                + f\"/GRID/{g}/WF2_*_vec/{satellite_plot}/{day}.geojson\") ])\n",
    "                floodmap_day_sat = spatial_aggregation(floodmaps_aggregate)   \n",
    "                floodmap_day_sat = floodmap_day_sat.loc[floodmap_day_sat['class']\n",
    "                                                        .apply(lambda x: x in ['flood_trace', 'water'])]\n",
    "                floodmap_day_sat.explore(m=m, name = f'Water map {satellite_plot} {day}', color = 'violet')\n",
    "            except:\n",
    "                continue\n",
    "        \n",
    "    # Format the map and add controls\n",
    "    #m.addLayer(eegeom_clip, name=\"AOI\", color=\"red\", style_kwds={\"fillOpacity\": 0.0})\n",
    "    floodmap_post_intersect.explore(m=m, name=\"Water Post-Flood\", color=\"violet\")\n",
    "    clouds.explore(m=m, name=\"Clouds\", color=\"gray\")\n",
    "    folium.LayerControl(collapsed=False).add_to(m)\n",
    "    return m"
   ]
  },
  {
   "cell_type": "markdown",
   "id": "74636daa",
   "metadata": {},
   "source": [
    "## Shepparton\n",
    "\n",
    "Explore the Shepparton LGA and visualise available data."
   ]
  },
  {
   "cell_type": "code",
   "execution_count": null,
   "id": "22dda57a",
   "metadata": {},
   "outputs": [],
   "source": [
    "# Choose Shepparton (LGA[0]) and fetch the grid polygons covering the LGA\n",
    "lga_name = lga_req_list[0]\n",
    "grid_list, grid_lga_df = intersect_lga_grid(lga_name, lga_df, grid_df)\n",
    "grid_lga_df.explore()"
   ]
  },
  {
   "cell_type": "markdown",
   "id": "4b2410c3",
   "metadata": {},
   "source": [
    "**Visualise data availability in a representative grid patch**\n",
    "\n",
    "For Sheparton choose GRID06189"
   ]
  },
  {
   "cell_type": "code",
   "execution_count": null,
   "id": "475d09ce",
   "metadata": {},
   "outputs": [],
   "source": [
    "# Choose a representative grid from the map above\n",
    "grid_name = \"GRID06189\"\n",
    "\n",
    "# Fetch the metadata from the bucket\n",
    "metadata = get_metadata_grid(grid_name)\n",
    "print(f\"There are {metadata.shape[0]} entries in the table.\")\n",
    "metadata.head(5)"
   ]
  },
  {
   "cell_type": "code",
   "execution_count": null,
   "id": "34084adb",
   "metadata": {},
   "outputs": [],
   "source": [
    "# Plot the timeseries of data\n",
    "fig, ax = plt.subplots(1,1, figsize=(15,5))\n",
    "plot_data_timeseries(metadata, period_flood_start, period_flood_end, period_pre_flood_start)"
   ]
  },
  {
   "cell_type": "markdown",
   "id": "a89fe6e2",
   "metadata": {},
   "source": [
    "**Create the aggregate flood map and explore**"
   ]
  },
  {
   "cell_type": "code",
   "execution_count": null,
   "id": "f453a649",
   "metadata": {},
   "outputs": [],
   "source": [
    "# Create an aggregate floodmap from the images in GCP\n",
    "floodmap = create_aggregate_floodmap(grid_fs, grid_list)\n",
    "plot_utils.plot_floodmap(floodmap)                 "
   ]
  },
  {
   "cell_type": "code",
   "execution_count": null,
   "id": "2c671b0a",
   "metadata": {},
   "outputs": [],
   "source": [
    "# Create an outline of the gridded LGA to query data\n",
    "grid_outline = grid_lga_df.dissolve().geometry.values[0]\n",
    "grid_outline"
   ]
  },
  {
   "cell_type": "code",
   "execution_count": null,
   "id": "f9e5c8a2",
   "metadata": {},
   "outputs": [],
   "source": [
    "# Check for images covering the flood period \n",
    "images_available_gee, collection = \\\n",
    "    query_ee_images(grid_outline,\n",
    "                    period_flood_start,\n",
    "                    period_flood_end)\n",
    "\n",
    "# Check for images before flood period \n",
    "images_available_gee_pre, collection_pre = \\\n",
    "    query_ee_images(grid_outline,\n",
    "                    period_pre_flood_start,\n",
    "                    period_pre_flood_end)\n",
    "\n",
    "assert images_available_gee.shape[0] > 0, \"[ERR] No images found for date and location!\"\n",
    "print(\"Total images available:\", images_available_gee.shape[0])"
   ]
  },
  {
   "cell_type": "code",
   "execution_count": null,
   "id": "70f8ab69",
   "metadata": {},
   "outputs": [],
   "source": [
    "# Build a Folium map\n",
    "m = build_interactive_map(grid_outline, floodmap, images_available_gee, images_available_gee_pre,\n",
    "                         do_plot_day=True)"
   ]
  },
  {
   "cell_type": "code",
   "execution_count": null,
   "id": "b57a21f8",
   "metadata": {},
   "outputs": [],
   "source": [
    "# Display the map\n",
    "m"
   ]
  },
  {
   "cell_type": "markdown",
   "id": "62cb1f62",
   "metadata": {},
   "source": [
    "## Rochester"
   ]
  },
  {
   "cell_type": "code",
   "execution_count": null,
   "id": "7ca2911d",
   "metadata": {},
   "outputs": [],
   "source": [
    "# Explore the second LGA (Rochester)\n",
    "lga_name = lga_req_list[1]\n",
    "grid_list, grid_lga_df = intersect_lga_grid(lga_name, lga_df, grid_df)\n",
    "grid_lga_df.explore()"
   ]
  },
  {
   "cell_type": "markdown",
   "id": "410c678b",
   "metadata": {},
   "source": [
    "**Visualise data availability in a representative grid patch**\n",
    "\n",
    "For Rochester choose GRID05748"
   ]
  },
  {
   "cell_type": "code",
   "execution_count": null,
   "id": "7416e2eb",
   "metadata": {},
   "outputs": [],
   "source": [
    "# Choose a representative grid from the map above\n",
    "grid_name = \"GRID05748\"\n",
    "\n",
    "# Fetch the metadata from the bucket\n",
    "metadata = get_metadata_grid(grid_name)\n",
    "print(f\"There are {metadata.shape[0]} entries in the table.\")\n",
    "metadata.head(5)"
   ]
  },
  {
   "cell_type": "code",
   "execution_count": null,
   "id": "f61ee51b",
   "metadata": {},
   "outputs": [],
   "source": [
    "# Plot the timeseries of data\n",
    "fig, ax = plt.subplots(1,1, figsize=(15,5))\n",
    "plot_data_timeseries(metadata, period_flood_start, period_flood_end, period_pre_flood_start)"
   ]
  },
  {
   "cell_type": "markdown",
   "id": "817a4e0b",
   "metadata": {},
   "source": [
    "**Create the aggregate flood map and explore**"
   ]
  },
  {
   "cell_type": "code",
   "execution_count": null,
   "id": "4768784e",
   "metadata": {},
   "outputs": [],
   "source": [
    "# Create an aggregate floodmap from the images in GCP\n",
    "floodmap = create_aggregate_floodmap(grid_fs, grid_list)\n",
    "plot_utils.plot_floodmap(floodmap)   "
   ]
  },
  {
   "cell_type": "code",
   "execution_count": null,
   "id": "f700e8bd",
   "metadata": {},
   "outputs": [],
   "source": [
    "# Create an outline of the gridded LGA to query data\n",
    "grid_outline = grid_lga_df.dissolve().geometry.values[0]\n",
    "grid_outline"
   ]
  },
  {
   "cell_type": "code",
   "execution_count": null,
   "id": "e8abb505",
   "metadata": {},
   "outputs": [],
   "source": [
    "# Check for images covering the flood period \n",
    "images_available_gee, collection = \\\n",
    "    query_ee_images(grid_outline,\n",
    "                    period_flood_start,\n",
    "                    period_flood_end)\n",
    "\n",
    "# Check for images before flood period \n",
    "images_available_gee_pre, collection_pre = \\\n",
    "    query_ee_images(grid_outline,\n",
    "                    period_pre_flood_start,\n",
    "                    period_pre_flood_end)\n",
    "\n",
    "assert images_available_gee.shape[0] > 0, \"[ERR] No images found for date and location!\"\n",
    "print(\"Total images available:\", images_available_gee.shape[0])"
   ]
  },
  {
   "cell_type": "code",
   "execution_count": null,
   "id": "7d1b5285",
   "metadata": {},
   "outputs": [],
   "source": [
    "# Build a Folium map and show\n",
    "m = build_interactive_map(grid_outline, floodmap, images_available_gee, images_available_gee_pre)\n",
    "m"
   ]
  },
  {
   "cell_type": "markdown",
   "id": "3a160a33",
   "metadata": {},
   "source": [
    "## Moree"
   ]
  },
  {
   "cell_type": "code",
   "execution_count": null,
   "id": "98d7ee67",
   "metadata": {},
   "outputs": [],
   "source": [
    "# Explore the third LGA (Moree)\n",
    "lga_name = lga_req_list[2]\n",
    "grid_list, grid_lga_df = intersect_lga_grid(lga_name, lga_df, grid_df)\n",
    "grid_lga_df.explore()"
   ]
  },
  {
   "cell_type": "markdown",
   "id": "89079885",
   "metadata": {},
   "source": [
    "**Visualise data availability in a representative grid patch**\n",
    "\n",
    "For Moree choose GRID09458"
   ]
  },
  {
   "cell_type": "code",
   "execution_count": null,
   "id": "b1863686",
   "metadata": {},
   "outputs": [],
   "source": [
    "# Choose a representative grid from the map above\n",
    "grid_name = \"GRID09458\"\n",
    "#grid_name = \"GRID09898\"\n",
    "\n",
    "# Fetch the metadata from the bucket\n",
    "metadata = get_metadata_grid(grid_name)\n",
    "print(f\"There are {metadata.shape[0]} entries in the table.\")\n",
    "metadata.head(5)"
   ]
  },
  {
   "cell_type": "code",
   "execution_count": null,
   "id": "93077b02",
   "metadata": {},
   "outputs": [],
   "source": [
    "# Plot the timeseries of data\n",
    "fig, ax = plt.subplots(1,1, figsize=(15,5))\n",
    "plot_data_timeseries(metadata, period_flood_start, period_flood_end, period_pre_flood_start)"
   ]
  },
  {
   "cell_type": "markdown",
   "id": "880ae97a",
   "metadata": {},
   "source": [
    "**Create the aggregate flood map and explore**"
   ]
  },
  {
   "cell_type": "code",
   "execution_count": null,
   "id": "e399d2cd",
   "metadata": {},
   "outputs": [],
   "source": [
    "# Create an aggregate floodmap from the images in GCP\n",
    "floodmap = create_aggregate_floodmap(grid_fs, grid_list)"
   ]
  },
  {
   "cell_type": "code",
   "execution_count": null,
   "id": "a5d5e360",
   "metadata": {},
   "outputs": [],
   "source": [
    "# Show the floodmap\n",
    "plot_utils.plot_floodmap(floodmap)"
   ]
  },
  {
   "cell_type": "code",
   "execution_count": null,
   "id": "e007e4a7",
   "metadata": {},
   "outputs": [],
   "source": [
    "# Create an outline of the gridded LGA to query data\n",
    "grid_outline = grid_lga_df.dissolve().geometry.values[0]\n",
    "grid_outline"
   ]
  },
  {
   "cell_type": "code",
   "execution_count": null,
   "id": "1a54ae64",
   "metadata": {},
   "outputs": [],
   "source": [
    "# Check for images covering the flood period \n",
    "images_available_gee, collection = \\\n",
    "    query_ee_images(grid_outline,\n",
    "                    period_flood_start,\n",
    "                    period_flood_end)\n",
    "\n",
    "# Check for images before flood period \n",
    "images_available_gee_pre, collection_pre = \\\n",
    "    query_ee_images(grid_outline,\n",
    "                    period_pre_flood_start,\n",
    "                    period_pre_flood_end)\n",
    "\n",
    "assert images_available_gee.shape[0] > 0, \"[ERR] No images found for date and location!\"\n",
    "print(\"Total images available:\", images_available_gee.shape[0])"
   ]
  },
  {
   "cell_type": "code",
   "execution_count": null,
   "id": "547f05b5",
   "metadata": {},
   "outputs": [],
   "source": [
    "# Build a Folium map\n",
    "m = build_interactive_map(grid_outline, floodmap, images_available_gee, images_available_gee_pre)"
   ]
  },
  {
   "cell_type": "code",
   "execution_count": null,
   "id": "90494f03",
   "metadata": {},
   "outputs": [],
   "source": [
    "# Show the map\n",
    "m"
   ]
  },
  {
   "cell_type": "markdown",
   "id": "e84579a0",
   "metadata": {},
   "source": [
    "## Forbes"
   ]
  },
  {
   "cell_type": "code",
   "execution_count": null,
   "id": "07558d4b",
   "metadata": {},
   "outputs": [],
   "source": [
    "# Explore the forth LGA (Forbes)\n",
    "lga_name = lga_req_list[3]\n",
    "grid_list, grid_lga_df = intersect_lga_grid(lga_name, lga_df, grid_df)\n",
    "grid_lga_df.explore()"
   ]
  },
  {
   "cell_type": "markdown",
   "id": "1ac18eba",
   "metadata": {},
   "source": [
    "**Visualise data availability in a representative grid patch**\n",
    "\n",
    "For Forbes choose GRID08115"
   ]
  },
  {
   "cell_type": "code",
   "execution_count": null,
   "id": "e23ede89",
   "metadata": {},
   "outputs": [],
   "source": [
    "# Choose a representative grid from the map above\n",
    "grid_name = \"GRID08115\"\n",
    "\n",
    "# Fetch the metadata from the bucket\n",
    "metadata = get_metadata_grid(grid_name)\n",
    "print(f\"There are {metadata.shape[0]} entries in the table.\")\n",
    "metadata.head(5)"
   ]
  },
  {
   "cell_type": "code",
   "execution_count": null,
   "id": "c29183a4",
   "metadata": {},
   "outputs": [],
   "source": [
    "# Plot the timeseries of data\n",
    "fig, ax = plt.subplots(1,1, figsize=(15,5))\n",
    "plot_data_timeseries(metadata, period_flood_start, period_flood_end, period_pre_flood_start)"
   ]
  },
  {
   "cell_type": "markdown",
   "id": "745606af",
   "metadata": {},
   "source": [
    "**Create the aggregate flood map and explore**"
   ]
  },
  {
   "cell_type": "code",
   "execution_count": null,
   "id": "0a21a05d-5741-4a04-92a6-e78b4f03e7f0",
   "metadata": {},
   "outputs": [],
   "source": [
    "# Create an aggregate floodmap from the images in GCP\n",
    "floodmap = create_aggregate_floodmap(grid_fs, grid_list)"
   ]
  },
  {
   "cell_type": "code",
   "execution_count": null,
   "id": "01653483",
   "metadata": {},
   "outputs": [],
   "source": [
    "plot_utils.plot_floodmap(floodmap)"
   ]
  },
  {
   "cell_type": "code",
   "execution_count": null,
   "id": "a689e7f5",
   "metadata": {},
   "outputs": [],
   "source": [
    "# Create an outline of the gridded LGA to query data\n",
    "grid_outline = grid_lga_df.dissolve().geometry.values[0]\n",
    "grid_outline"
   ]
  },
  {
   "cell_type": "code",
   "execution_count": null,
   "id": "4cc60131",
   "metadata": {},
   "outputs": [],
   "source": [
    "# Check for images covering the flood period \n",
    "images_available_gee, collection = \\\n",
    "    query_ee_images(grid_outline,\n",
    "                    period_flood_start,\n",
    "                    period_flood_end)\n",
    "\n",
    "# Check for images before flood period \n",
    "images_available_gee_pre, collection_pre = \\\n",
    "    query_ee_images(grid_outline,\n",
    "                    period_pre_flood_start,\n",
    "                    period_pre_flood_end)\n",
    "\n",
    "assert images_available_gee.shape[0] > 0, \"[ERR] No images found for date and location!\"\n",
    "print(\"Total images available:\", images_available_gee.shape[0])"
   ]
  },
  {
   "cell_type": "code",
   "execution_count": null,
   "id": "f72304f3",
   "metadata": {},
   "outputs": [],
   "source": [
    "# Build a Folium map\n",
    "m = build_interactive_map(grid_outline, floodmap, images_available_gee, images_available_gee_pre, True)"
   ]
  },
  {
   "cell_type": "code",
   "execution_count": null,
   "id": "9db11aa8",
   "metadata": {},
   "outputs": [],
   "source": [
    "# Show the map\n",
    "m"
   ]
  },
  {
   "cell_type": "code",
   "execution_count": null,
   "id": "3752296f",
   "metadata": {},
   "outputs": [],
   "source": []
  }
 ],
 "metadata": {
  "kernelspec": {
   "display_name": "Python 3 (ipykernel)",
   "language": "python",
   "name": "python3"
  },
  "language_info": {
   "codemirror_mode": {
    "name": "ipython",
    "version": 3
   },
   "file_extension": ".py",
   "mimetype": "text/x-python",
   "name": "python",
   "nbconvert_exporter": "python",
   "pygments_lexer": "ipython3",
   "version": "3.9.15"
  }
 },
 "nbformat": 4,
 "nbformat_minor": 5
}
