{
 "cells": [
  {
   "cell_type": "markdown",
   "id": "707bb7bc-2991-4d25-8261-dede3fd111c3",
   "metadata": {},
   "source": [
    "# Monitoring NB\n",
    "\n",
    "Run this notebook to monitor download tasks in progress on Google Earth Engine."
   ]
  },
  {
   "cell_type": "code",
   "execution_count": 1,
   "id": "9d92f667-1d95-43e8-b47f-a928cdce5907",
   "metadata": {},
   "outputs": [],
   "source": [
    "# Necessary imports\n",
    "import json\n",
    "from tqdm.notebook import tqdm\n",
    "import random\n",
    "import pandas as pd\n",
    "import time\n",
    "from db_utils import DB"
   ]
  },
  {
   "cell_type": "markdown",
   "id": "21371a78",
   "metadata": {},
   "source": [
    "**SET THE PATH TO THE JSON FILE HERE**"
   ]
  },
  {
   "cell_type": "code",
   "execution_count": 2,
   "id": "d51a7fa3",
   "metadata": {},
   "outputs": [],
   "source": [
    "# Path to the JSON file outout by download script\n",
    "json_path = \"../../2fac3e2c-6ae7-11ed-bfaf-0b4506ca505b.json\""
   ]
  },
  {
   "cell_type": "markdown",
   "id": "8e004463",
   "metadata": {},
   "source": [
    "**END USER INPUT**"
   ]
  },
  {
   "cell_type": "code",
   "execution_count": 3,
   "id": "41fff8fd",
   "metadata": {},
   "outputs": [
    {
     "name": "stdout",
     "output_type": "stream",
     "text": [
      "[INFO] connected to dev-sample\n"
     ]
    }
   ],
   "source": [
    "# Connect to the database\n",
    "db_conn = DB()"
   ]
  },
  {
   "cell_type": "code",
   "execution_count": 4,
   "id": "8725c4f6-4794-4b71-991f-3b45f62f0368",
   "metadata": {},
   "outputs": [
    {
     "name": "stdout",
     "output_type": "stream",
     "text": [
      "JSON currently contains 5 task entries.\n"
     ]
    }
   ],
   "source": [
    "# Load the JSON \n",
    "task_list = json.load(open(json_path, \"r\"))\n",
    "n_tasks = len(task_list)\n",
    "print(f\"JSON currently contains {n_tasks} task entries.\")\n",
    "\n",
    "# Convert to a DataFrame\n",
    "tasks_df = pd.DataFrame(task_list)\n",
    "tasks_df[\"gridname\"] = tasks_df[\"description\"].str.split(\"_\").str[0]"
   ]
  },
  {
   "cell_type": "code",
   "execution_count": 5,
   "id": "c69f912c",
   "metadata": {},
   "outputs": [
    {
     "name": "stdout",
     "output_type": "stream",
     "text": [
      "Returned 5 rows from the DB\n"
     ]
    }
   ],
   "source": [
    "# Query the DB for the download status of the images.\n",
    "image_ids = tuple(tasks_df['description'].unique())\n",
    "if len(image_ids) > 1:\n",
    "    db_query = \"\"\"SELECT image_id, in_progress \n",
    "                  FROM images_download \n",
    "                  WHERE image_id IN {};\"\"\".format(image_ids)\n",
    "else:\n",
    "    db_query = \"\"\"SELECT image_id, in_progress \n",
    "                  FROM images_download \n",
    "                  WHERE image_id = '{}';\"\"\".format(image_ids[0])\n",
    "image_db = db_conn.run_query(db_query, fetch = True)\n",
    "print(\"Returned {:d} rows from the DB\".format(len(image_db)))"
   ]
  },
  {
   "cell_type": "code",
   "execution_count": 6,
   "id": "f9d70d57",
   "metadata": {},
   "outputs": [
    {
     "data": {
      "application/json": {
       "ascii": false,
       "bar_format": null,
       "colour": null,
       "elapsed": 0.04058265686035156,
       "initial": 0,
       "n": 0,
       "ncols": 80,
       "nrows": 24,
       "postfix": null,
       "prefix": "All Tasks",
       "rate": null,
       "total": 5,
       "unit": "it",
       "unit_divisor": 1000,
       "unit_scale": false
      },
      "application/vnd.jupyter.widget-view+json": {
       "model_id": "df643f777c2c4848a5f9bf722e1760ce",
       "version_major": 2,
       "version_minor": 0
      },
      "text/plain": [
       "All Tasks:   0%|                                          | 0/5 [00:00<?, ?it/s]"
      ]
     },
     "metadata": {},
     "output_type": "display_data"
    },
    {
     "data": {
      "application/json": {
       "ascii": false,
       "bar_format": null,
       "colour": null,
       "elapsed": 0.027634859085083008,
       "initial": 0,
       "n": 0,
       "ncols": 80,
       "nrows": 24,
       "postfix": null,
       "prefix": "GRID11960",
       "rate": null,
       "total": 1,
       "unit": "it",
       "unit_divisor": 1000,
       "unit_scale": false
      },
      "application/vnd.jupyter.widget-view+json": {
       "model_id": "be8c432108b04f4cb028eb2d92ee913f",
       "version_major": 2,
       "version_minor": 0
      },
      "text/plain": [
       "GRID11960:   0%|                                          | 0/1 [00:00<?, ?it/s]"
      ]
     },
     "metadata": {},
     "output_type": "display_data"
    },
    {
     "data": {
      "application/json": {
       "ascii": false,
       "bar_format": null,
       "colour": null,
       "elapsed": 0.01751995086669922,
       "initial": 0,
       "n": 0,
       "ncols": 80,
       "nrows": 24,
       "postfix": null,
       "prefix": "GRID11961",
       "rate": null,
       "total": 1,
       "unit": "it",
       "unit_divisor": 1000,
       "unit_scale": false
      },
      "application/vnd.jupyter.widget-view+json": {
       "model_id": "2f66aa8ca1ba4ea9b6a6e75e72096503",
       "version_major": 2,
       "version_minor": 0
      },
      "text/plain": [
       "GRID11961:   0%|                                          | 0/1 [00:00<?, ?it/s]"
      ]
     },
     "metadata": {},
     "output_type": "display_data"
    },
    {
     "data": {
      "application/json": {
       "ascii": false,
       "bar_format": null,
       "colour": null,
       "elapsed": 0.017212390899658203,
       "initial": 0,
       "n": 0,
       "ncols": 80,
       "nrows": 24,
       "postfix": null,
       "prefix": "GRID12106",
       "rate": null,
       "total": 1,
       "unit": "it",
       "unit_divisor": 1000,
       "unit_scale": false
      },
      "application/vnd.jupyter.widget-view+json": {
       "model_id": "8033cdcd66314407bfaa9ad7132b26b9",
       "version_major": 2,
       "version_minor": 0
      },
      "text/plain": [
       "GRID12106:   0%|                                          | 0/1 [00:00<?, ?it/s]"
      ]
     },
     "metadata": {},
     "output_type": "display_data"
    },
    {
     "data": {
      "application/json": {
       "ascii": false,
       "bar_format": null,
       "colour": null,
       "elapsed": 0.02071666717529297,
       "initial": 0,
       "n": 0,
       "ncols": 80,
       "nrows": 24,
       "postfix": null,
       "prefix": "GRID12107",
       "rate": null,
       "total": 1,
       "unit": "it",
       "unit_divisor": 1000,
       "unit_scale": false
      },
      "application/vnd.jupyter.widget-view+json": {
       "model_id": "582dd09054594195995a137645039530",
       "version_major": 2,
       "version_minor": 0
      },
      "text/plain": [
       "GRID12107:   0%|                                          | 0/1 [00:00<?, ?it/s]"
      ]
     },
     "metadata": {},
     "output_type": "display_data"
    },
    {
     "data": {
      "application/json": {
       "ascii": false,
       "bar_format": null,
       "colour": null,
       "elapsed": 0.022096633911132812,
       "initial": 0,
       "n": 0,
       "ncols": 80,
       "nrows": 24,
       "postfix": null,
       "prefix": "GRID12108",
       "rate": null,
       "total": 1,
       "unit": "it",
       "unit_divisor": 1000,
       "unit_scale": false
      },
      "application/vnd.jupyter.widget-view+json": {
       "model_id": "5c26d8742f9843cba444d56c2e4b5101",
       "version_major": 2,
       "version_minor": 0
      },
      "text/plain": [
       "GRID12108:   0%|                                          | 0/1 [00:00<?, ?it/s]"
      ]
     },
     "metadata": {},
     "output_type": "display_data"
    }
   ],
   "source": [
    "# Initialise progress bar for all available tasks. \n",
    "batch_bar = tqdm(total=len(tasks_df), \n",
    "                 dynamic_ncols=True, \n",
    "                 leave=False, \n",
    "                 position=0, \n",
    "                 desc=\"All Tasks\",\n",
    "                 colour=\"GREEN\")\n",
    "\n",
    "# Add a progress bar for every unique grid patch present in task list\n",
    "grid_bars = {}\n",
    "for name, gdf in tasks_df.groupby(by='gridname'):\n",
    "    grid_bars[name] = tqdm(total=len(gdf), \n",
    "                           dynamic_ncols=True, \n",
    "                           leave=True, \n",
    "                           position=0, \n",
    "                           desc=name)\n",
    "\n",
    "# Logic : Check all tasks, keep removing them as and when the \n",
    "# in_progress flag is set to 0 for the task in the database.\n",
    "while len(tasks_df) >= 1:\n",
    "    \n",
    "    # Loop through the tasks grouped by gridname\n",
    "    for name, gdf in tasks_df.groupby(by='gridname'):\n",
    "        for i, task in gdf.iterrows():\n",
    "            \n",
    "            # Check if download is still marked as in-progress in the DB\n",
    "            desc = task['description']\n",
    "            ip = image_db[image_db['image_id'] == desc]['in_progress'].item()\n",
    "\n",
    "            # Do nothing if still in-progress\n",
    "            if ip == 1:\n",
    "                continue\n",
    "\n",
    "            # Drop entry if not still in-progress\n",
    "            if ip == 0:\n",
    "                tasks_df.drop(i, inplace = True)\n",
    "                grid_bars[name].update()\n",
    "                batch_bar.update()\n",
    "        \n",
    "        time.sleep(0.25)"
   ]
  },
  {
   "cell_type": "code",
   "execution_count": null,
   "id": "944750ad-bab7-422e-9714-e49522d2e029",
   "metadata": {},
   "outputs": [],
   "source": []
  }
 ],
 "metadata": {
  "kernelspec": {
   "display_name": "Python 3 (ipykernel)",
   "language": "python",
   "name": "python3"
  },
  "language_info": {
   "codemirror_mode": {
    "name": "ipython",
    "version": 3
   },
   "file_extension": ".py",
   "mimetype": "text/x-python",
   "name": "python",
   "nbconvert_exporter": "python",
   "pygments_lexer": "ipython3",
   "version": "3.9.15"
  }
 },
 "nbformat": 4,
 "nbformat_minor": 5
}
