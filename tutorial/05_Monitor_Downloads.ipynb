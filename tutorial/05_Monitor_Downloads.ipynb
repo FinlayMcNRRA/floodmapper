{
 "cells": [
  {
   "cell_type": "markdown",
   "id": "707bb7bc-2991-4d25-8261-dede3fd111c3",
   "metadata": {},
   "source": [
    "# Monitor the active tasks on Google Earth Engine\n",
    "\n",
    "Run this notebook to monitor download tasks in progress on Google Earth Engine."
   ]
  },
  {
   "cell_type": "code",
   "execution_count": 1,
   "id": "9d92f667-1d95-43e8-b47f-a928cdce5907",
   "metadata": {},
   "outputs": [],
   "source": [
    "# Necessary imports\n",
    "import os\n",
    "import json\n",
    "from tqdm.notebook import tqdm\n",
    "import random\n",
    "import pandas as pd\n",
    "import time\n",
    "from db_utils import DB\n",
    "from dotenv import load_dotenv"
   ]
  },
  {
   "cell_type": "markdown",
   "id": "5d30dd68",
   "metadata": {},
   "source": [
    "## Load environment and project details\n",
    "\n",
    "As with the other notebooks, we load credentials and project details from a hidden ```.env``` file."
   ]
  },
  {
   "cell_type": "code",
   "execution_count": 2,
   "id": "e57b7c05",
   "metadata": {},
   "outputs": [
    {
     "name": "stdout",
     "output_type": "stream",
     "text": [
      "[INFO] Successfully loaded FloodMapper environment.\n"
     ]
    }
   ],
   "source": [
    "# Load environment variables (including path to credentials) from '.env' file\n",
    "env_file_path = \"../.env\"\n",
    "\n",
    "assert load_dotenv(dotenv_path=env_file_path) == True, \"[ERR] Failed to load environment!\"\n",
    "assert \"GOOGLE_APPLICATION_CREDENTIALS\" in os.environ, \"[ERR] Missing $GOOGLE_APPLICATION_CREDENTIAL!\"\n",
    "assert \"GS_USER_PROJECT\" in os.environ, \"[ERR] Missing $GS_USER_PROJECT!\"\n",
    "key_file_path = os.environ[\"GOOGLE_APPLICATION_CREDENTIALS\"]\n",
    "assert os.path.exists(key_file_path), f\"[ERR] Google credential key file does not exist: \\n{key_file_path} \"\n",
    "assert \"ML4FLOODS_BASE_DIR\" in os.environ, \"[ERR] Missing $ML4FLOODS_BASE_DIR!\"\n",
    "base_path = os.environ[\"ML4FLOODS_BASE_DIR\"]\n",
    "assert os.path.exists(base_path), f\"[ERR] Base path does not exist: \\n{base_path} \"\n",
    "print(\"[INFO] Successfully loaded FloodMapper environment.\")"
   ]
  },
  {
   "cell_type": "markdown",
   "id": "21371a78",
   "metadata": {},
   "source": [
    "**Set the path to the JSON task file here**"
   ]
  },
  {
   "cell_type": "code",
   "execution_count": 3,
   "id": "d51a7fa3",
   "metadata": {},
   "outputs": [
    {
     "data": {
      "text/plain": [
       "True"
      ]
     },
     "execution_count": 3,
     "metadata": {},
     "output_type": "execute_result"
    }
   ],
   "source": [
    "# Path to the JSON file outout by download script\n",
    "json_path = \"../scripts/2023-03-13_13.45.27.json\"\n",
    "os.path.exists(json_path)"
   ]
  },
  {
   "cell_type": "markdown",
   "id": "8e004463",
   "metadata": {},
   "source": [
    "## Display a progress bar\n",
    "\n",
    "The cells here can be quickly run in sequence to produce progress bars for the tasks being tracked by the database. Note that the ```01_download_images.py``` script must remain running for this notebook to work. "
   ]
  },
  {
   "cell_type": "code",
   "execution_count": 4,
   "id": "41fff8fd",
   "metadata": {},
   "outputs": [
    {
     "name": "stdout",
     "output_type": "stream",
     "text": [
      "[INFO] Connecting to DB 'floodmapper-db'.\n",
      "[INFO] Connection successfully established.\n"
     ]
    }
   ],
   "source": [
    "# Connect to the database\n",
    "db_conn = DB()"
   ]
  },
  {
   "cell_type": "code",
   "execution_count": 5,
   "id": "8725c4f6-4794-4b71-991f-3b45f62f0368",
   "metadata": {},
   "outputs": [
    {
     "name": "stdout",
     "output_type": "stream",
     "text": [
      "JSON currently contains 133 task entries.\n"
     ]
    }
   ],
   "source": [
    "# Load the JSON \n",
    "task_list = json.load(open(json_path, \"r\"))\n",
    "n_tasks = len(task_list)\n",
    "print(f\"JSON currently contains {n_tasks} task entries.\")\n",
    "\n",
    "# Convert to a DataFrame\n",
    "tasks_df = pd.DataFrame(task_list)\n",
    "tasks_df[\"gridname\"] = tasks_df[\"description\"].str.split(\"_\").str[0]"
   ]
  },
  {
   "cell_type": "code",
   "execution_count": null,
   "id": "c69f912c",
   "metadata": {},
   "outputs": [],
   "source": [
    "# Query the DB for the download status of the images.\n",
    "image_ids = tuple(tasks_df['description'].unique())\n",
    "if len(image_ids) > 1:\n",
    "    db_query = \"\"\"SELECT image_id, in_progress \n",
    "                  FROM images_download \n",
    "                  WHERE image_id IN {};\"\"\".format(image_ids)\n",
    "else:\n",
    "    db_query = \"\"\"SELECT image_id, in_progress \n",
    "                  FROM images_download \n",
    "                  WHERE image_id = '{}';\"\"\".format(image_ids[0])\n",
    "image_db = db_conn.run_query(db_query, fetch = True)\n",
    "print(\"Returned {:d} rows from the DB\".format(len(image_db)))"
   ]
  },
  {
   "cell_type": "code",
   "execution_count": 10,
   "id": "7e69bd7f",
   "metadata": {},
   "outputs": [],
   "source": [
    "# Query the DB for the download status of the images\n",
    "image_ids = tuple(tasks_df['description'].unique())\n",
    "query = (f\"SELECT image_id, in_progress \"\n",
    "         f\"FROM images_download \"\n",
    "         f\"WHERE image_id IN %s;\")\n",
    "data = (tuple(image_ids),)\n",
    "image_db = db_conn.run_query(query, data, fetch=True)"
   ]
  },
  {
   "cell_type": "code",
   "execution_count": 12,
   "id": "f9d70d57",
   "metadata": {},
   "outputs": [
    {
     "data": {
      "application/vnd.jupyter.widget-view+json": {
       "model_id": "fc2d93da5afe479b8874032afab1e275",
       "version_major": 2,
       "version_minor": 0
      },
      "text/plain": [
       "All Tasks:   0%|                                                                                              …"
      ]
     },
     "metadata": {},
     "output_type": "display_data"
    },
    {
     "data": {
      "application/vnd.jupyter.widget-view+json": {
       "model_id": "9a76f50567cd4087b2c440eae0ae6098",
       "version_major": 2,
       "version_minor": 0
      },
      "text/plain": [
       "GRID11716:   0%|                                                                                              …"
      ]
     },
     "metadata": {},
     "output_type": "display_data"
    },
    {
     "data": {
      "application/vnd.jupyter.widget-view+json": {
       "model_id": "050445fb293845c8a2d7211d1ce4fe03",
       "version_major": 2,
       "version_minor": 0
      },
      "text/plain": [
       "GRID11717:   0%|                                                                                              …"
      ]
     },
     "metadata": {},
     "output_type": "display_data"
    },
    {
     "data": {
      "application/vnd.jupyter.widget-view+json": {
       "model_id": "b7b5c8980fab4279990cf877fbcb4772",
       "version_major": 2,
       "version_minor": 0
      },
      "text/plain": [
       "GRID11885:   0%|                                                                                              …"
      ]
     },
     "metadata": {},
     "output_type": "display_data"
    },
    {
     "data": {
      "application/vnd.jupyter.widget-view+json": {
       "model_id": "816ee6c28c1f48d1aff17bb7c847fdad",
       "version_major": 2,
       "version_minor": 0
      },
      "text/plain": [
       "GRID11886:   0%|                                                                                              …"
      ]
     },
     "metadata": {},
     "output_type": "display_data"
    },
    {
     "data": {
      "application/vnd.jupyter.widget-view+json": {
       "model_id": "62246a6e043b4ba6bbbba254e5961279",
       "version_major": 2,
       "version_minor": 0
      },
      "text/plain": [
       "GRID12054:   0%|                                                                                              …"
      ]
     },
     "metadata": {},
     "output_type": "display_data"
    },
    {
     "data": {
      "application/vnd.jupyter.widget-view+json": {
       "model_id": "97cb30c2ae344d59bae872101896ed18",
       "version_major": 2,
       "version_minor": 0
      },
      "text/plain": [
       "GRID12055:   0%|                                                                                              …"
      ]
     },
     "metadata": {},
     "output_type": "display_data"
    },
    {
     "data": {
      "application/vnd.jupyter.widget-view+json": {
       "model_id": "fa8da86b760b4b24ad07b5dce36a7175",
       "version_major": 2,
       "version_minor": 0
      },
      "text/plain": [
       "GRID12056:   0%|                                                                                              …"
      ]
     },
     "metadata": {},
     "output_type": "display_data"
    },
    {
     "data": {
      "application/vnd.jupyter.widget-view+json": {
       "model_id": "88088939de954336a60cfeb17664e3fe",
       "version_major": 2,
       "version_minor": 0
      },
      "text/plain": [
       "GRID12223:   0%|                                                                                              …"
      ]
     },
     "metadata": {},
     "output_type": "display_data"
    },
    {
     "data": {
      "application/vnd.jupyter.widget-view+json": {
       "model_id": "9e6042ba24224b5c91669fce9298a740",
       "version_major": 2,
       "version_minor": 0
      },
      "text/plain": [
       "GRID12224:   0%|                                                                                              …"
      ]
     },
     "metadata": {},
     "output_type": "display_data"
    },
    {
     "data": {
      "application/vnd.jupyter.widget-view+json": {
       "model_id": "aad79eee231940908af26914a1770a1f",
       "version_major": 2,
       "version_minor": 0
      },
      "text/plain": [
       "GRID12225:   0%|                                                                                              …"
      ]
     },
     "metadata": {},
     "output_type": "display_data"
    },
    {
     "data": {
      "application/vnd.jupyter.widget-view+json": {
       "model_id": "1f45c6e00f3e42dcaffd1e60fec30ffb",
       "version_major": 2,
       "version_minor": 0
      },
      "text/plain": [
       "GRID12394:   0%|                                                                                              …"
      ]
     },
     "metadata": {},
     "output_type": "display_data"
    },
    {
     "data": {
      "application/vnd.jupyter.widget-view+json": {
       "model_id": "619c50432374490c8b3d210837fa392b",
       "version_major": 2,
       "version_minor": 0
      },
      "text/plain": [
       "GRID12562:   0%|                                                                                              …"
      ]
     },
     "metadata": {},
     "output_type": "display_data"
    },
    {
     "data": {
      "application/vnd.jupyter.widget-view+json": {
       "model_id": "53062c06849a407fa602af4608f44c6f",
       "version_major": 2,
       "version_minor": 0
      },
      "text/plain": [
       "GRID12563:   0%|                                                                                              …"
      ]
     },
     "metadata": {},
     "output_type": "display_data"
    },
    {
     "ename": "KeyboardInterrupt",
     "evalue": "",
     "output_type": "error",
     "traceback": [
      "\u001b[0;31m---------------------------------------------------------------------------\u001b[0m",
      "\u001b[0;31mKeyboardInterrupt\u001b[0m                         Traceback (most recent call last)",
      "Cell \u001b[0;32mIn[12], line 40\u001b[0m\n\u001b[1;32m     37\u001b[0m         grid_bars[name]\u001b[38;5;241m.\u001b[39mupdate()\n\u001b[1;32m     38\u001b[0m         batch_bar\u001b[38;5;241m.\u001b[39mupdate()\n\u001b[0;32m---> 40\u001b[0m \u001b[43mtime\u001b[49m\u001b[38;5;241;43m.\u001b[39;49m\u001b[43msleep\u001b[49m\u001b[43m(\u001b[49m\u001b[38;5;241;43m0.25\u001b[39;49m\u001b[43m)\u001b[49m\n",
      "\u001b[0;31mKeyboardInterrupt\u001b[0m: "
     ]
    }
   ],
   "source": [
    "# Initialise progress bar for all available tasks. \n",
    "batch_bar = tqdm(total=len(tasks_df), \n",
    "                 dynamic_ncols=True, \n",
    "                 leave=False, \n",
    "                 position=0, \n",
    "                 desc=\"All Tasks\",\n",
    "                 colour=\"GREEN\")\n",
    "\n",
    "# Add a progress bar for every unique grid patch present in task list\n",
    "grid_bars = {}\n",
    "for name, gdf in tasks_df.groupby(by='gridname'):\n",
    "    grid_bars[name] = tqdm(total=len(gdf), \n",
    "                           dynamic_ncols=True, \n",
    "                           leave=True, \n",
    "                           position=0, \n",
    "                           desc=name)\n",
    "\n",
    "# Logic : Check all tasks, keep removing them as and when the \n",
    "# in_progress flag is set to 0 for the task in the database.\n",
    "while len(tasks_df) >= 1:\n",
    "    \n",
    "    # Loop through the tasks grouped by gridname\n",
    "    for name, gdf in tasks_df.groupby(by='gridname'):\n",
    "        for i, task in gdf.iterrows():\n",
    "            \n",
    "            # Check if download is still marked as in-progress in the DB\n",
    "            desc = task['description']\n",
    "            ip = image_db[image_db['image_id'] == desc]['in_progress'].item()\n",
    "            \n",
    "            # Do nothing if still in-progress\n",
    "            if ip == 1:\n",
    "                continue\n",
    "\n",
    "            ## Drop entry if not still in-progress\n",
    "            if ip == 0:\n",
    "                tasks_df.drop(i, inplace = True)\n",
    "                grid_bars[name].update()\n",
    "                batch_bar.update()\n",
    "        \n",
    "        time.sleep(0.25)"
   ]
  },
  {
   "cell_type": "code",
   "execution_count": null,
   "id": "944750ad-bab7-422e-9714-e49522d2e029",
   "metadata": {},
   "outputs": [],
   "source": []
  }
 ],
 "metadata": {
  "kernelspec": {
   "display_name": "Python 3.9 (nf_mac)",
   "language": "python",
   "name": "nf_mac"
  },
  "language_info": {
   "codemirror_mode": {
    "name": "ipython",
    "version": 3
   },
   "file_extension": ".py",
   "mimetype": "text/x-python",
   "name": "python",
   "nbconvert_exporter": "python",
   "pygments_lexer": "ipython3",
   "version": "3.9.15"
  }
 },
 "nbformat": 4,
 "nbformat_minor": 5
}
