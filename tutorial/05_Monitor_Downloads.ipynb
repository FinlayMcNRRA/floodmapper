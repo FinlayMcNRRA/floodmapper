{
 "cells": [
  {
   "cell_type": "markdown",
   "id": "707bb7bc-2991-4d25-8261-dede3fd111c3",
   "metadata": {},
   "source": [
    "# Monitor download state and task progress\n",
    "Run this notebook to visualise download state and monitor download tasks in progress on Google Earth Engine."
   ]
  },
  {
   "cell_type": "code",
   "execution_count": null,
   "id": "9d92f667-1d95-43e8-b47f-a928cdce5907",
   "metadata": {},
   "outputs": [],
   "source": [
    "# Necessary imports\n",
    "import os\n",
    "os.environ['USE_PYGEOS'] = '0'\n",
    "import pandas as pd\n",
    "import geopandas as gpd\n",
    "import time\n",
    "import folium\n",
    "import geemap.foliumap as geemap\n",
    "import branca.colormap\n",
    "\n",
    "from db_utils import DB\n",
    "from dotenv import load_dotenv"
   ]
  },
  {
   "cell_type": "markdown",
   "id": "5d30dd68",
   "metadata": {},
   "source": [
    "## Load environment and project details\n",
    "\n",
    "As with the other notebooks, we load credentials and project details from a hidden ```.env``` file."
   ]
  },
  {
   "cell_type": "code",
   "execution_count": null,
   "id": "e57b7c05",
   "metadata": {},
   "outputs": [],
   "source": [
    "# Load environment variables (including path to credentials) from '.env' file\n",
    "env_file_path = \"../.env\"\n",
    "\n",
    "assert load_dotenv(dotenv_path=env_file_path) == True, \"[ERR] Failed to load environment!\"\n",
    "assert \"GOOGLE_APPLICATION_CREDENTIALS\" in os.environ, \"[ERR] Missing $GOOGLE_APPLICATION_CREDENTIAL!\"\n",
    "assert \"GS_USER_PROJECT\" in os.environ, \"[ERR] Missing $GS_USER_PROJECT!\"\n",
    "key_file_path = os.environ[\"GOOGLE_APPLICATION_CREDENTIALS\"]\n",
    "assert os.path.exists(key_file_path), f\"[ERR] Google credential key file does not exist: \\n{key_file_path} \"\n",
    "assert \"ML4FLOODS_BASE_DIR\" in os.environ, \"[ERR] Missing $ML4FLOODS_BASE_DIR!\"\n",
    "base_path = os.environ[\"ML4FLOODS_BASE_DIR\"]\n",
    "assert os.path.exists(base_path), f\"[ERR] Base path does not exist: \\n{base_path} \"\n",
    "print(\"[INFO] Successfully loaded FloodMapper environment.\")"
   ]
  },
  {
   "cell_type": "markdown",
   "id": "21371a78",
   "metadata": {},
   "source": [
    "## Query the download state from the database"
   ]
  },
  {
   "cell_type": "code",
   "execution_count": null,
   "id": "e1aebf3c",
   "metadata": {},
   "outputs": [],
   "source": [
    "# All work is conducted under a unique session name\n",
    "session_name = \"EMSR586\""
   ]
  },
  {
   "cell_type": "code",
   "execution_count": null,
   "id": "b404539e",
   "metadata": {},
   "outputs": [],
   "source": [
    "# Connect to the database (point to the .env file for credentials)\n",
    "db_conn = DB(env_file_path)"
   ]
  },
  {
   "cell_type": "code",
   "execution_count": null,
   "id": "91d1737e",
   "metadata": {},
   "outputs": [],
   "source": [
    "# Query the patches and their download status\n",
    "query = (f\"SELECT DISTINCT im.image_id, im.satellite, \"\n",
    "         f\"im.patch_name, im.status, ST_AsText(gr.geometry) \"\n",
    "         f\"FROM image_downloads im \"\n",
    "         f\"INNER JOIN grid_loc gr \"\n",
    "         f\"ON im.patch_name = gr.patch_name \"\n",
    "         f\"INNER JOIN session_patches sp \"\n",
    "         f\"ON im.patch_name = sp.patch_name \"\n",
    "         f\"WHERE sp.session = %s ;\")\n",
    "data = (session_name,)\n",
    "grid_df = db_conn.run_query(query, data, fetch=True)\n",
    "print(f\"[INFO] Returned {len(grid_df)} rows.\")\n",
    "\n",
    "# Format the results into a correct GeoDataFrame\n",
    "grid_df['geometry'] = gpd.GeoSeries.from_wkt(grid_df['st_astext'])\n",
    "grid_df.drop(['st_astext'], axis=1, inplace = True)\n",
    "grid_gdf = gpd.GeoDataFrame(grid_df, geometry='geometry', crs=\"EPSG:4326\")\n",
    "grid_gdf"
   ]
  },
  {
   "cell_type": "markdown",
   "id": "8b754f2b",
   "metadata": {},
   "source": [
    "## Parse number of downloads and skipped files in each patch"
   ]
  },
  {
   "cell_type": "code",
   "execution_count": null,
   "id": "23f569d8",
   "metadata": {},
   "outputs": [],
   "source": [
    "# Extract the patch polygons\n",
    "geom = grid_gdf[[\"patch_name\", \"geometry\"]].drop_duplicates()\n",
    "geom = geom.set_index(\"patch_name\")\n",
    "\n",
    "# Count the downloaded and skipped files\n",
    "grid_dl_gdf = grid_gdf.loc[grid_gdf.status == 1]\n",
    "downloads = grid_dl_gdf.groupby(\"patch_name\").image_id.count()\n",
    "grid_skip_gdf = grid_gdf.loc[grid_gdf.status == 0]\n",
    "skipped = grid_skip_gdf.groupby(\"patch_name\").image_id.count()\n",
    "skipped = skipped.rename({\"image_id\": \"count\"})\n",
    "\n",
    "# Create a downloads gdf\n",
    "downloads_df = pd.concat([downloads, geom], axis = 1)\n",
    "downloads_df = downloads_df.rename(columns={\"image_id\": \"count\"})\n",
    "downloads_gdf = gpd.GeoDataFrame(downloads_df, geometry='geometry', crs=\"EPSG:4326\")\n",
    "\n",
    "# Create a skipped gdf\n",
    "skipped_df = pd.concat([skipped, geom], axis = 1)\n",
    "skipped_df = skipped_df.rename(columns={\"image_id\": \"count\"})\n",
    "skipped_gdf = gpd.GeoDataFrame(skipped_df, geometry='geometry', crs=\"EPSG:4326\")"
   ]
  },
  {
   "cell_type": "markdown",
   "id": "fa446f38",
   "metadata": {},
   "source": [
    "## Plot the number of skipped files"
   ]
  },
  {
   "cell_type": "code",
   "execution_count": null,
   "id": "e8c58cfb",
   "metadata": {},
   "outputs": [],
   "source": [
    "# Create an outline of the map area\n",
    "aoi_outline = grid_gdf.geometry.unary_union\n",
    "aoi_outline_gdf = gpd.GeoDataFrame(geometry=[aoi_outline], crs=\"EPSG:4326\")"
   ]
  },
  {
   "cell_type": "code",
   "execution_count": null,
   "id": "65a7b63e",
   "metadata": {},
   "outputs": [],
   "source": [
    "# Define a style function to set the colours\n",
    "#cm = branca.colormap.LinearColormap(\n",
    "#    ['red', 'orange', 'yellow', 'cyan', 'blue', 'darkblue'],\n",
    "cm = branca.colormap.linear.YlOrRd_07.scale(\n",
    "    vmin=downloads_gdf[\"count\"].min(), \n",
    "    vmax=downloads_gdf[\"count\"].max())\n",
    "def style_fn(feature):\n",
    "    return {\n",
    "        'fillColor': cm(feature['properties']['count']),\n",
    "        'color': cm(feature['properties']['count']),\n",
    "        'weight': 0.5,\n",
    "        \"fillOpacity\": 0.5\n",
    "    }\n",
    "\n",
    "# Plot the patches colour-coded by number of downloads\n",
    "m = aoi_outline_gdf.explore(color=\"black\", style_kwds={\"fillOpacity\": 0.0, \"weight\": 3}, \n",
    "                            name=\"AoI Outline\", highlight=False)\n",
    "folium.GeoJson(downloads_gdf, \n",
    "               style_function=style_fn,\n",
    "               name=\"Downloaded Images\",\n",
    "               tooltip=folium.features.GeoJsonTooltip([\"count\"]),\n",
    "              ).add_to(m)\n",
    "\n",
    "# Add the colourmap, layer control and show\n",
    "m.add_child(cm)\n",
    "folium.LayerControl(collapsed=False).add_to(m)\n",
    "m"
   ]
  },
  {
   "cell_type": "markdown",
   "id": "809c4889",
   "metadata": {},
   "source": [
    "## Plot the number of skipped files"
   ]
  },
  {
   "cell_type": "code",
   "execution_count": null,
   "id": "d51a7fa3",
   "metadata": {},
   "outputs": [],
   "source": [
    "# Define a style function to set the colours\n",
    "#cm = branca.colormap.LinearColormap(\n",
    "#    ['red', 'yellow', 'green'],\n",
    "cm = branca.colormap.linear.YlOrRd_07.scale(\n",
    "    vmin=skipped_gdf[\"count\"].min(), \n",
    "    vmax=skipped_gdf[\"count\"].max())\n",
    "def style_fn(feature):\n",
    "    return {\n",
    "        'fillColor': cm(feature['properties']['count']),\n",
    "        'color': cm(feature['properties']['count']),\n",
    "        'weight': 0.5,\n",
    "        \"fillOpacity\": 0.5\n",
    "    }\n",
    "\n",
    "# Plot the patches colour-coded by number of downloads\n",
    "m = aoi_outline_gdf.explore(color=\"black\", style_kwds={\"fillOpacity\": 0.0, \"weight\": 3}, \n",
    "                            name=\"AoI Outline\", highlight=False)\n",
    "folium.GeoJson(skipped_gdf, \n",
    "               style_function=style_fn,\n",
    "               name=\"Skipped Images\",\n",
    "               tooltip=folium.features.GeoJsonTooltip([\"count\"]),\n",
    "              ).add_to(m)\n",
    "\n",
    "# Add the colourmap, layer control and show\n",
    "m.add_child(cm)\n",
    "folium.LayerControl(collapsed=False).add_to(m)\n",
    "m"
   ]
  },
  {
   "cell_type": "markdown",
   "id": "8e004463",
   "metadata": {},
   "source": [
    "## Display a progress bar\n",
    "\n",
    "The cells here can be quickly run in sequence to produce progress bars for the tasks being tracked by the database. Note that the ```01_download_images.py``` script must remain running for this notebook to work. "
   ]
  },
  {
   "cell_type": "code",
   "execution_count": null,
   "id": "7e69bd7f",
   "metadata": {},
   "outputs": [],
   "source": [
    "# Query the DB for the task status\n",
    "query = (f\"SELECT description, state_code \"\n",
    "         f\"FROM gee_task_tracker \"\n",
    "         f\"WHERE session = %s;\")\n",
    "data = (session_name,)\n",
    "tasks_df = db_conn.run_query(query, data, fetch=True)\n",
    "tasks_df"
   ]
  },
  {
   "cell_type": "code",
   "execution_count": null,
   "id": "f9d70d57",
   "metadata": {},
   "outputs": [],
   "source": [
    "# Initialise progress bar for all available tasks. \n",
    "\"\"\"\n",
    "batch_bar = tqdm(total=len(tasks_df), \n",
    "                 dynamic_ncols=True, \n",
    "                 leave=False, \n",
    "                 position=0, \n",
    "                 desc=\"All Tasks\",\n",
    "                 colour=\"GREEN\")\n",
    "\n",
    "# Logic : Check all tasks, keep removing them as and when the \n",
    "# in_progress flag is set to 0 for the task in the database.\n",
    "while len(tasks_df) >= 1:\n",
    "    \n",
    "    # Loop through the tasks grouped by gridname\n",
    "    for name, gdf in tasks_df.groupby(by='gridname'):\n",
    "        for i, task in gdf.iterrows():\n",
    "            \n",
    "            # Check if download is still marked as in-progress in the DB\n",
    "            desc = task['description']\n",
    "            ip = image_db[image_db['image_id'] == desc]['status'].item()\n",
    "            \n",
    "            # Do nothing if still in-progress\n",
    "            if ip == -1:\n",
    "                continue\n",
    "\n",
    "            ## Drop entry if not still in-progress\n",
    "            if ip == 0 or ip == 1:\n",
    "                tasks_df.drop(i, inplace = True)\n",
    "                batch_bar.update()\n",
    "        \n",
    "        time.sleep(0.25)\n",
    "\"\"\""
   ]
  },
  {
   "cell_type": "code",
   "execution_count": null,
   "id": "944750ad-bab7-422e-9714-e49522d2e029",
   "metadata": {},
   "outputs": [],
   "source": []
  }
 ],
 "metadata": {
  "kernelspec": {
   "display_name": "Python 3.9 (nf_mac)",
   "language": "python",
   "name": "nf_mac"
  },
  "language_info": {
   "codemirror_mode": {
    "name": "ipython",
    "version": 3
   },
   "file_extension": ".py",
   "mimetype": "text/x-python",
   "name": "python",
   "nbconvert_exporter": "python",
   "pygments_lexer": "ipython3",
   "version": "3.9.15"
  }
 },
 "nbformat": 4,
 "nbformat_minor": 5
}
