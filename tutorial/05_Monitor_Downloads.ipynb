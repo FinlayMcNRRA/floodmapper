{
 "cells": [
  {
   "cell_type": "markdown",
   "id": "707bb7bc-2991-4d25-8261-dede3fd111c3",
   "metadata": {},
   "source": [
    "# Monitor the active tasks on Google Earth Engine\n",
    "\n",
    "Run this notebook to monitor download tasks in progress on Google Earth Engine."
   ]
  },
  {
   "cell_type": "code",
   "execution_count": null,
   "id": "9d92f667-1d95-43e8-b47f-a928cdce5907",
   "metadata": {},
   "outputs": [],
   "source": [
    "# Necessary imports\n",
    "import os\n",
    "import json\n",
    "from tqdm.notebook import tqdm\n",
    "import random\n",
    "import pandas as pd\n",
    "import time\n",
    "from db_utils import DB\n",
    "from dotenv import load_dotenv"
   ]
  },
  {
   "cell_type": "markdown",
   "id": "5d30dd68",
   "metadata": {},
   "source": [
    "## Load environment and project details\n",
    "\n",
    "As with the other notebooks, we load credentials and project details from a hidden ```.env``` file."
   ]
  },
  {
   "cell_type": "code",
   "execution_count": null,
   "id": "e57b7c05",
   "metadata": {},
   "outputs": [],
   "source": [
    "# Load environment variables (including path to credentials) from '.env' file\n",
    "env_file_path = \"../.env\"\n",
    "\n",
    "assert load_dotenv(dotenv_path=env_file_path) == True, \"[ERR] Failed to load environment!\"\n",
    "assert \"GOOGLE_APPLICATION_CREDENTIALS\" in os.environ, \"[ERR] Missing $GOOGLE_APPLICATION_CREDENTIAL!\"\n",
    "assert \"GS_USER_PROJECT\" in os.environ, \"[ERR] Missing $GS_USER_PROJECT!\"\n",
    "key_file_path = os.environ[\"GOOGLE_APPLICATION_CREDENTIALS\"]\n",
    "assert os.path.exists(key_file_path), f\"[ERR] Google credential key file does not exist: \\n{key_file_path} \"\n",
    "assert \"ML4FLOODS_BASE_DIR\" in os.environ, \"[ERR] Missing $ML4FLOODS_BASE_DIR!\"\n",
    "base_path = os.environ[\"ML4FLOODS_BASE_DIR\"]\n",
    "assert os.path.exists(base_path), f\"[ERR] Base path does not exist: \\n{base_path} \"\n",
    "print(\"[INFO] Successfully loaded FloodMapper environment.\")"
   ]
  },
  {
   "cell_type": "markdown",
   "id": "21371a78",
   "metadata": {},
   "source": [
    "**Set the path to the JSON task file here**"
   ]
  },
  {
   "cell_type": "code",
   "execution_count": null,
   "id": "d51a7fa3",
   "metadata": {},
   "outputs": [],
   "source": [
    "# Path to the JSON file outout by download script\n",
    "json_path = \"../scripts/2023-03-16_11.50.44.json\"\n",
    "os.path.exists(json_path)"
   ]
  },
  {
   "cell_type": "markdown",
   "id": "8e004463",
   "metadata": {},
   "source": [
    "## Display a progress bar\n",
    "\n",
    "The cells here can be quickly run in sequence to produce progress bars for the tasks being tracked by the database. Note that the ```01_download_images.py``` script must remain running for this notebook to work. "
   ]
  },
  {
   "cell_type": "code",
   "execution_count": null,
   "id": "41fff8fd",
   "metadata": {},
   "outputs": [],
   "source": [
    "# Connect to the database\n",
    "db_conn = DB()"
   ]
  },
  {
   "cell_type": "code",
   "execution_count": null,
   "id": "8725c4f6-4794-4b71-991f-3b45f62f0368",
   "metadata": {},
   "outputs": [],
   "source": [
    "# Load the JSON \n",
    "task_list = json.load(open(json_path, \"r\"))\n",
    "n_tasks = len(task_list)\n",
    "print(f\"JSON currently contains {n_tasks} task entries.\")\n",
    "\n",
    "# Convert to a DataFrame\n",
    "tasks_df = pd.DataFrame(task_list)\n",
    "tasks_df[\"gridname\"] = tasks_df[\"description\"].str.split(\"_\").str[0]\n",
    "tasks_df"
   ]
  },
  {
   "cell_type": "code",
   "execution_count": null,
   "id": "7e69bd7f",
   "metadata": {},
   "outputs": [],
   "source": [
    "# Query the DB for the download status of the images\n",
    "image_ids = tuple(tasks_df['description'].unique())\n",
    "query = (f\"SELECT image_id, status \"\n",
    "         f\"FROM image_downloads \"\n",
    "         f\"WHERE image_id IN %s;\")\n",
    "data = (tuple(image_ids),)\n",
    "image_db = db_conn.run_query(query, data, fetch=True)\n",
    "image_db"
   ]
  },
  {
   "cell_type": "code",
   "execution_count": null,
   "id": "f9d70d57",
   "metadata": {},
   "outputs": [],
   "source": [
    "# Initialise progress bar for all available tasks. \n",
    "batch_bar = tqdm(total=len(tasks_df), \n",
    "                 dynamic_ncols=True, \n",
    "                 leave=False, \n",
    "                 position=0, \n",
    "                 desc=\"All Tasks\",\n",
    "                 colour=\"GREEN\")\n",
    "\n",
    "# Logic : Check all tasks, keep removing them as and when the \n",
    "# in_progress flag is set to 0 for the task in the database.\n",
    "while len(tasks_df) >= 1:\n",
    "    \n",
    "    # Loop through the tasks grouped by gridname\n",
    "    for name, gdf in tasks_df.groupby(by='gridname'):\n",
    "        for i, task in gdf.iterrows():\n",
    "            \n",
    "            # Check if download is still marked as in-progress in the DB\n",
    "            desc = task['description']\n",
    "            ip = image_db[image_db['image_id'] == desc]['status'].item()\n",
    "            \n",
    "            # Do nothing if still in-progress\n",
    "            if ip == -1:\n",
    "                continue\n",
    "\n",
    "            ## Drop entry if not still in-progress\n",
    "            if ip == 0 or ip == 1:\n",
    "                tasks_df.drop(i, inplace = True)\n",
    "                batch_bar.update()\n",
    "        \n",
    "        time.sleep(0.25)"
   ]
  },
  {
   "cell_type": "code",
   "execution_count": null,
   "id": "944750ad-bab7-422e-9714-e49522d2e029",
   "metadata": {},
   "outputs": [],
   "source": []
  }
 ],
 "metadata": {
  "kernelspec": {
   "display_name": "Python 3.9 (nf_mac)",
   "language": "python",
   "name": "nf_mac"
  },
  "language_info": {
   "codemirror_mode": {
    "name": "ipython",
    "version": 3
   },
   "file_extension": ".py",
   "mimetype": "text/x-python",
   "name": "python",
   "nbconvert_exporter": "python",
   "pygments_lexer": "ipython3",
   "version": "3.9.15"
  }
 },
 "nbformat": 4,
 "nbformat_minor": 5
}
