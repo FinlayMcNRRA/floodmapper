{
 "cells": [
  {
   "cell_type": "markdown",
   "id": "707bb7bc-2991-4d25-8261-dede3fd111c3",
   "metadata": {},
   "source": [
    "# Monitor the active tasks on Google Earth Engine\n",
    "\n",
    "Run this notebook to monitor download tasks in progress on Google Earth Engine."
   ]
  },
  {
   "cell_type": "code",
   "execution_count": null,
   "id": "9d92f667-1d95-43e8-b47f-a928cdce5907",
   "metadata": {},
   "outputs": [],
   "source": [
    "# Necessary imports\n",
    "import os\n",
    "import json\n",
    "from tqdm.notebook import tqdm\n",
    "import random\n",
    "import pandas as pd\n",
    "import time\n",
    "from db_utils import DB\n",
    "from dotenv import load_dotenv"
   ]
  },
  {
   "cell_type": "markdown",
   "id": "5d30dd68",
   "metadata": {},
   "source": [
    "## Load environment and project details\n",
    "\n",
    "As with the other notebooks, we load credentials and project details from a hidden ```.env``` file."
   ]
  },
  {
   "cell_type": "code",
   "execution_count": 2,
   "id": "e57b7c05",
   "metadata": {},
   "outputs": [
    {
     "name": "stdout",
     "output_type": "stream",
     "text": [
      "[INFO] Successfully loaded FloodMapper environment.\n"
     ]
    }
   ],
   "source": [
    "# Load environment variables (including path to credentials) from '.env' file\n",
    "env_file_path = \"C:/Users/User/floodmapper/.env\"\n",
    "\n",
    "assert load_dotenv(dotenv_path=env_file_path) == True, \"[ERR] Failed to load environment!\"\n",
    "assert \"GOOGLE_APPLICATION_CREDENTIALS\" in os.environ, \"[ERR] Missing $GOOGLE_APPLICATION_CREDENTIAL!\"\n",
    "assert \"GS_USER_PROJECT\" in os.environ, \"[ERR] Missing $GS_USER_PROJECT!\"\n",
    "key_file_path = os.environ[\"GOOGLE_APPLICATION_CREDENTIALS\"]\n",
    "assert os.path.exists(key_file_path), f\"[ERR] Google credential key file does not exist: \\n{key_file_path} \"\n",
    "assert \"ML4FLOODS_BASE_DIR\" in os.environ, \"[ERR] Missing $ML4FLOODS_BASE_DIR!\"\n",
    "base_path = os.environ[\"ML4FLOODS_BASE_DIR\"]\n",
    "assert os.path.exists(base_path), f\"[ERR] Base path does not exist: \\n{base_path} \"\n",
    "print(\"[INFO] Successfully loaded FloodMapper environment.\")"
   ]
  },
  {
   "cell_type": "markdown",
   "id": "21371a78",
   "metadata": {},
   "source": [
    "**Set the path to the JSON task file here**"
   ]
  },
  {
   "cell_type": "code",
   "execution_count": 3,
   "id": "d51a7fa3",
   "metadata": {},
   "outputs": [
    {
     "data": {
      "text/plain": [
       "True"
      ]
     },
     "execution_count": 3,
     "metadata": {},
     "output_type": "execute_result"
    }
   ],
   "source": [
    "# Path to the JSON file outout by download script\n",
    "json_path = \"C:/Users/User/floodmapper/scripts/2023-03-28_11.52.00.json\"\n",
    "os.path.exists(json_path)"
   ]
  },
  {
   "cell_type": "markdown",
   "id": "8e004463",
   "metadata": {},
   "source": [
    "## Display a progress bar\n",
    "\n",
    "The cells here can be quickly run in sequence to produce progress bars for the tasks being tracked by the database. Note that the ```01_download_images.py``` script must remain running for this notebook to work. "
   ]
  },
  {
   "cell_type": "code",
   "execution_count": 4,
   "id": "41fff8fd",
   "metadata": {},
   "outputs": [
    {
     "name": "stdout",
     "output_type": "stream",
     "text": [
      "[INFO] Connecting to DB 'floodmapper-db'.\n",
      "[INFO] Connection successfully established.\n"
     ]
    }
   ],
   "source": [
    "# Connect to the database\n",
    "db_conn = DB(env_file_path)"
   ]
  },
  {
   "cell_type": "code",
   "execution_count": 5,
   "id": "8725c4f6-4794-4b71-991f-3b45f62f0368",
   "metadata": {
    "scrolled": true
   },
   "outputs": [
    {
     "name": "stdout",
     "output_type": "stream",
     "text": [
      "JSON currently contains 155 task entries.\n"
     ]
    },
    {
     "data": {
      "text/plain": [
       "49"
      ]
     },
     "execution_count": 5,
     "metadata": {},
     "output_type": "execute_result"
    }
   ],
   "source": [
    "# Load the JSON \n",
    "task_list = json.load(open(json_path, \"r\"))\n",
    "n_tasks = len(task_list)\n",
    "print(f\"JSON currently contains {n_tasks} task entries.\")\n",
    "\n",
    "# Convert to a DataFrame\n",
    "tasks_df = pd.DataFrame(task_list)\n",
    "tasks_df[\"gridname\"] = tasks_df[\"description\"].str.split(\"_\").str[0]\n",
    "len(tasks_df[tasks_df[\"state\"] == \"COMPLETED\"])"
   ]
  },
  {
   "cell_type": "code",
   "execution_count": 6,
   "id": "7e69bd7f",
   "metadata": {},
   "outputs": [
    {
     "data": {
      "text/html": [
       "<div>\n",
       "<style scoped>\n",
       "    .dataframe tbody tr th:only-of-type {\n",
       "        vertical-align: middle;\n",
       "    }\n",
       "\n",
       "    .dataframe tbody tr th {\n",
       "        vertical-align: top;\n",
       "    }\n",
       "\n",
       "    .dataframe thead th {\n",
       "        text-align: right;\n",
       "    }\n",
       "</style>\n",
       "<table border=\"1\" class=\"dataframe\">\n",
       "  <thead>\n",
       "    <tr style=\"text-align: right;\">\n",
       "      <th></th>\n",
       "      <th>image_id</th>\n",
       "      <th>status</th>\n",
       "    </tr>\n",
       "  </thead>\n",
       "  <tbody>\n",
       "    <tr>\n",
       "      <th>0</th>\n",
       "      <td>GRID31996_S2_2022-06-13</td>\n",
       "      <td>-1</td>\n",
       "    </tr>\n",
       "    <tr>\n",
       "      <th>1</th>\n",
       "      <td>GRID31996_Landsat_2022-06-15</td>\n",
       "      <td>-1</td>\n",
       "    </tr>\n",
       "    <tr>\n",
       "      <th>2</th>\n",
       "      <td>GRID31996_S2_2022-07-08</td>\n",
       "      <td>-1</td>\n",
       "    </tr>\n",
       "    <tr>\n",
       "      <th>3</th>\n",
       "      <td>GRID31996_Landsat_2022-07-09</td>\n",
       "      <td>-1</td>\n",
       "    </tr>\n",
       "    <tr>\n",
       "      <th>4</th>\n",
       "      <td>GRID31996_Landsat_2022-07-10</td>\n",
       "      <td>-1</td>\n",
       "    </tr>\n",
       "    <tr>\n",
       "      <th>...</th>\n",
       "      <td>...</td>\n",
       "      <td>...</td>\n",
       "    </tr>\n",
       "    <tr>\n",
       "      <th>150</th>\n",
       "      <td>GRID32843_S2_2022-07-15</td>\n",
       "      <td>-1</td>\n",
       "    </tr>\n",
       "    <tr>\n",
       "      <th>151</th>\n",
       "      <td>GRID32843_Landsat_2022-07-18</td>\n",
       "      <td>-1</td>\n",
       "    </tr>\n",
       "    <tr>\n",
       "      <th>152</th>\n",
       "      <td>GRID32843_S2_2022-07-18</td>\n",
       "      <td>-1</td>\n",
       "    </tr>\n",
       "    <tr>\n",
       "      <th>153</th>\n",
       "      <td>GRID32843_S2_2022-07-20</td>\n",
       "      <td>-1</td>\n",
       "    </tr>\n",
       "    <tr>\n",
       "      <th>154</th>\n",
       "      <td>GRID32843_S2_2022-07-23</td>\n",
       "      <td>-1</td>\n",
       "    </tr>\n",
       "  </tbody>\n",
       "</table>\n",
       "<p>155 rows × 2 columns</p>\n",
       "</div>"
      ],
      "text/plain": [
       "                         image_id  status\n",
       "0         GRID31996_S2_2022-06-13      -1\n",
       "1    GRID31996_Landsat_2022-06-15      -1\n",
       "2         GRID31996_S2_2022-07-08      -1\n",
       "3    GRID31996_Landsat_2022-07-09      -1\n",
       "4    GRID31996_Landsat_2022-07-10      -1\n",
       "..                            ...     ...\n",
       "150       GRID32843_S2_2022-07-15      -1\n",
       "151  GRID32843_Landsat_2022-07-18      -1\n",
       "152       GRID32843_S2_2022-07-18      -1\n",
       "153       GRID32843_S2_2022-07-20      -1\n",
       "154       GRID32843_S2_2022-07-23      -1\n",
       "\n",
       "[155 rows x 2 columns]"
      ]
     },
     "execution_count": 6,
     "metadata": {},
     "output_type": "execute_result"
    }
   ],
   "source": [
    "# Query the DB for the download status of the images\n",
    "image_ids = tuple(tasks_df['description'].unique())\n",
    "query = (f\"SELECT image_id, status \"\n",
    "         f\"FROM image_downloads \"\n",
    "         f\"WHERE image_id IN %s;\")\n",
    "data = (tuple(image_ids),)\n",
    "image_db = db_conn.run_query(query, data, fetch=True)\n",
    "image_db\n",
    "image_db[image_db[\"status\"] == -1]"
   ]
  },
  {
   "cell_type": "code",
   "execution_count": null,
   "id": "f9d70d57",
   "metadata": {},
   "outputs": [
    {
     "data": {
      "application/vnd.jupyter.widget-view+json": {
       "model_id": "408d91f7c61b4fe9a758b76354fa2e34",
       "version_major": 2,
       "version_minor": 0
      },
      "text/plain": [
       "All Tasks:   0%|          | 0/155 [00:00<?, ?it/s]"
      ]
     },
     "metadata": {},
     "output_type": "display_data"
    }
   ],
   "source": [
    "# Initialise progress bar for all available tasks. \n",
    "batch_bar = tqdm(total=len(tasks_df), \n",
    "                 dynamic_ncols=True, \n",
    "                 leave=False, \n",
    "                 position=0, \n",
    "                 desc=\"All Tasks\",\n",
    "                 colour=\"GREEN\")\n",
    "\n",
    "# Logic : Check all tasks, keep removing them as and when the \n",
    "# in_progress flag is set to 0 for the task in the database.\n",
    "while len(tasks_df) >= 1:\n",
    "    \n",
    "    # Loop through the tasks grouped by gridname\n",
    "    for name, gdf in tasks_df.groupby(by='gridname'):\n",
    "        for i, task in gdf.iterrows():\n",
    "            \n",
    "            # Check if download is still marked as in-progress in the DB\n",
    "            desc = task['description']\n",
    "            ip = image_db[image_db['image_id'] == desc]['status'].item()\n",
    "            \n",
    "            # Do nothing if still in-progress\n",
    "            if ip == -1:\n",
    "                continue\n",
    "\n",
    "            ## Drop entry if not still in-progress\n",
    "            if ip == 0 or ip == 1:\n",
    "                tasks_df.drop(i, inplace = True)\n",
    "                batch_bar.update()\n",
    "        \n",
    "        time.sleep(0.25)"
   ]
  },
  {
   "cell_type": "code",
   "execution_count": null,
   "id": "944750ad-bab7-422e-9714-e49522d2e029",
   "metadata": {},
   "outputs": [],
   "source": []
  }
 ],
 "metadata": {
  "kernelspec": {
   "display_name": "Python (floodmapper-cuda)",
   "language": "python",
   "name": "floodcuda"
  },
  "language_info": {
   "codemirror_mode": {
    "name": "ipython",
    "version": 3
   },
   "file_extension": ".py",
   "mimetype": "text/x-python",
   "name": "python",
   "nbconvert_exporter": "python",
   "pygments_lexer": "ipython3",
   "version": "3.9.16"
  }
 },
 "nbformat": 4,
 "nbformat_minor": 5
}
